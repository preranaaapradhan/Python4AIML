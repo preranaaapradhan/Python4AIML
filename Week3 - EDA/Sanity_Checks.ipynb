{
 "cells": [
  {
   "cell_type": "markdown",
   "id": "bb405e3f",
   "metadata": {},
   "source": [
    "Hello, This is 15-08-2025 and I am starting Week 3 of this Module - Introduction to Python."
   ]
  },
  {
   "cell_type": "code",
   "execution_count": 2,
   "id": "337e6944",
   "metadata": {},
   "outputs": [
    {
     "name": "stderr",
     "output_type": "stream",
     "text": [
      "Matplotlib is building the font cache; this may take a moment.\n"
     ]
    }
   ],
   "source": [
    "import numpy as np \n",
    "import pandas as pd \n",
    "import matplotlib.pyplot as plt \n",
    "import seaborn as sns\n",
    "\n",
    "pd.set_option('display.float_format', lambda x: '%3f' % x)"
   ]
  },
  {
   "cell_type": "markdown",
   "id": "27f31724",
   "metadata": {},
   "source": [
    "Importing the dataset"
   ]
  },
  {
   "cell_type": "code",
   "execution_count": 4,
   "id": "8cb3f2ad",
   "metadata": {},
   "outputs": [],
   "source": [
    "data = pd.read_csv('/Users/preranaapradhan/Documents/AIML/Python4AIML/Week3 - EDA/Melbourne_Housing.csv')"
   ]
  },
  {
   "cell_type": "code",
   "execution_count": 5,
   "id": "05dbad17",
   "metadata": {},
   "outputs": [
    {
     "data": {
      "text/html": [
       "<div>\n",
       "<style scoped>\n",
       "    .dataframe tbody tr th:only-of-type {\n",
       "        vertical-align: middle;\n",
       "    }\n",
       "\n",
       "    .dataframe tbody tr th {\n",
       "        vertical-align: top;\n",
       "    }\n",
       "\n",
       "    .dataframe thead th {\n",
       "        text-align: right;\n",
       "    }\n",
       "</style>\n",
       "<table border=\"1\" class=\"dataframe\">\n",
       "  <thead>\n",
       "    <tr style=\"text-align: right;\">\n",
       "      <th></th>\n",
       "      <th>Suburb</th>\n",
       "      <th>Rooms</th>\n",
       "      <th>Type</th>\n",
       "      <th>SellerG</th>\n",
       "      <th>Date</th>\n",
       "      <th>Distance</th>\n",
       "      <th>Postcode</th>\n",
       "      <th>Bedroom</th>\n",
       "      <th>Bathroom</th>\n",
       "      <th>Car</th>\n",
       "      <th>Landsize</th>\n",
       "      <th>BuildingArea</th>\n",
       "      <th>YearBuilt</th>\n",
       "      <th>Regionname</th>\n",
       "      <th>Propertycount</th>\n",
       "      <th>Price</th>\n",
       "    </tr>\n",
       "  </thead>\n",
       "  <tbody>\n",
       "    <tr>\n",
       "      <th>0</th>\n",
       "      <td>Airport West</td>\n",
       "      <td>3</td>\n",
       "      <td>t</td>\n",
       "      <td>Nelson</td>\n",
       "      <td>03-09-2016</td>\n",
       "      <td>13.500000</td>\n",
       "      <td>3042.000000</td>\n",
       "      <td>3.000000</td>\n",
       "      <td>2.000000</td>\n",
       "      <td>1.000000</td>\n",
       "      <td>303.000000</td>\n",
       "      <td>225</td>\n",
       "      <td>2016.000000</td>\n",
       "      <td>Western Metropolitan</td>\n",
       "      <td>3464</td>\n",
       "      <td>840000</td>\n",
       "    </tr>\n",
       "    <tr>\n",
       "      <th>1</th>\n",
       "      <td>Albert Park</td>\n",
       "      <td>2</td>\n",
       "      <td>h</td>\n",
       "      <td>hockingstuart</td>\n",
       "      <td>03-09-2016</td>\n",
       "      <td>3.300000</td>\n",
       "      <td>3206.000000</td>\n",
       "      <td>2.000000</td>\n",
       "      <td>1.000000</td>\n",
       "      <td>0.000000</td>\n",
       "      <td>120.000000</td>\n",
       "      <td>82</td>\n",
       "      <td>1900.000000</td>\n",
       "      <td>Southern Metropolitan</td>\n",
       "      <td>3280</td>\n",
       "      <td>1275000</td>\n",
       "    </tr>\n",
       "    <tr>\n",
       "      <th>2</th>\n",
       "      <td>Albert Park</td>\n",
       "      <td>2</td>\n",
       "      <td>h</td>\n",
       "      <td>Thomson</td>\n",
       "      <td>03-09-2016</td>\n",
       "      <td>3.300000</td>\n",
       "      <td>3206.000000</td>\n",
       "      <td>2.000000</td>\n",
       "      <td>1.000000</td>\n",
       "      <td>0.000000</td>\n",
       "      <td>159.000000</td>\n",
       "      <td>inf</td>\n",
       "      <td>NaN</td>\n",
       "      <td>Southern Metropolitan</td>\n",
       "      <td>3280</td>\n",
       "      <td>1455000</td>\n",
       "    </tr>\n",
       "    <tr>\n",
       "      <th>3</th>\n",
       "      <td>Alphington</td>\n",
       "      <td>4</td>\n",
       "      <td>h</td>\n",
       "      <td>Brace</td>\n",
       "      <td>03-09-2016</td>\n",
       "      <td>6.400000</td>\n",
       "      <td>3078.000000</td>\n",
       "      <td>3.000000</td>\n",
       "      <td>2.000000</td>\n",
       "      <td>4.000000</td>\n",
       "      <td>853.000000</td>\n",
       "      <td>263</td>\n",
       "      <td>1930.000000</td>\n",
       "      <td>Northern Metropolitan</td>\n",
       "      <td>2211</td>\n",
       "      <td>2000000</td>\n",
       "    </tr>\n",
       "    <tr>\n",
       "      <th>4</th>\n",
       "      <td>Alphington</td>\n",
       "      <td>3</td>\n",
       "      <td>h</td>\n",
       "      <td>Jellis</td>\n",
       "      <td>03-09-2016</td>\n",
       "      <td>6.400000</td>\n",
       "      <td>3078.000000</td>\n",
       "      <td>3.000000</td>\n",
       "      <td>2.000000</td>\n",
       "      <td>2.000000</td>\n",
       "      <td>208.000000</td>\n",
       "      <td>inf</td>\n",
       "      <td>2013.000000</td>\n",
       "      <td>Northern Metropolitan</td>\n",
       "      <td>2211</td>\n",
       "      <td>1110000</td>\n",
       "    </tr>\n",
       "  </tbody>\n",
       "</table>\n",
       "</div>"
      ],
      "text/plain": [
       "         Suburb  Rooms Type        SellerG        Date  Distance    Postcode  \\\n",
       "0  Airport West      3    t         Nelson  03-09-2016 13.500000 3042.000000   \n",
       "1   Albert Park      2    h  hockingstuart  03-09-2016  3.300000 3206.000000   \n",
       "2   Albert Park      2    h        Thomson  03-09-2016  3.300000 3206.000000   \n",
       "3    Alphington      4    h          Brace  03-09-2016  6.400000 3078.000000   \n",
       "4    Alphington      3    h         Jellis  03-09-2016  6.400000 3078.000000   \n",
       "\n",
       "   Bedroom  Bathroom      Car   Landsize BuildingArea   YearBuilt  \\\n",
       "0 3.000000  2.000000 1.000000 303.000000          225 2016.000000   \n",
       "1 2.000000  1.000000 0.000000 120.000000           82 1900.000000   \n",
       "2 2.000000  1.000000 0.000000 159.000000          inf         NaN   \n",
       "3 3.000000  2.000000 4.000000 853.000000          263 1930.000000   \n",
       "4 3.000000  2.000000 2.000000 208.000000          inf 2013.000000   \n",
       "\n",
       "              Regionname  Propertycount    Price  \n",
       "0   Western Metropolitan           3464   840000  \n",
       "1  Southern Metropolitan           3280  1275000  \n",
       "2  Southern Metropolitan           3280  1455000  \n",
       "3  Northern Metropolitan           2211  2000000  \n",
       "4  Northern Metropolitan           2211  1110000  "
      ]
     },
     "execution_count": 5,
     "metadata": {},
     "output_type": "execute_result"
    }
   ],
   "source": [
    "data.head()"
   ]
  },
  {
   "cell_type": "markdown",
   "id": "fc409c06",
   "metadata": {},
   "source": [
    "Understanding the shape of the dataset"
   ]
  },
  {
   "cell_type": "code",
   "execution_count": 6,
   "id": "f9d8470d",
   "metadata": {},
   "outputs": [
    {
     "name": "stdout",
     "output_type": "stream",
     "text": [
      "There are 27114 rows and 16 columns.\n"
     ]
    }
   ],
   "source": [
    "print(\"There are\", data.shape[0], 'rows and', data.shape[1], \"columns.\")"
   ]
  },
  {
   "cell_type": "code",
   "execution_count": 7,
   "id": "bcffedee",
   "metadata": {},
   "outputs": [
    {
     "name": "stdout",
     "output_type": "stream",
     "text": [
      "<class 'pandas.core.frame.DataFrame'>\n",
      "RangeIndex: 27114 entries, 0 to 27113\n",
      "Data columns (total 16 columns):\n",
      " #   Column         Non-Null Count  Dtype  \n",
      "---  ------         --------------  -----  \n",
      " 0   Suburb         27114 non-null  object \n",
      " 1   Rooms          27114 non-null  int64  \n",
      " 2   Type           27114 non-null  object \n",
      " 3   SellerG        27114 non-null  object \n",
      " 4   Date           27114 non-null  object \n",
      " 5   Distance       27113 non-null  float64\n",
      " 6   Postcode       27113 non-null  float64\n",
      " 7   Bedroom        20678 non-null  float64\n",
      " 8   Bathroom       20672 non-null  float64\n",
      " 9   Car            20297 non-null  float64\n",
      " 10  Landsize       17873 non-null  float64\n",
      " 11  BuildingArea   10543 non-null  object \n",
      " 12  YearBuilt      11985 non-null  float64\n",
      " 13  Regionname     27114 non-null  object \n",
      " 14  Propertycount  27114 non-null  int64  \n",
      " 15  Price          27114 non-null  int64  \n",
      "dtypes: float64(7), int64(3), object(6)\n",
      "memory usage: 3.3+ MB\n"
     ]
    }
   ],
   "source": [
    "data.info()"
   ]
  },
  {
   "cell_type": "markdown",
   "id": "26779030",
   "metadata": {},
   "source": [
    "There are 10 numerical and 6 object type columns.\n",
    "Date column is being read as object type but it should be in date time format.\n",
    "Building Area is showed as an object type but it should be a anumerical value."
   ]
  },
  {
   "cell_type": "code",
   "execution_count": 10,
   "id": "61177455",
   "metadata": {},
   "outputs": [],
   "source": [
    "#changing the data type of date column\n",
    "data['Date'] = pd.to_datetime(data['Date'], errors = 'coerce')"
   ]
  },
  {
   "cell_type": "code",
   "execution_count": 12,
   "id": "f726f5cd",
   "metadata": {},
   "outputs": [
    {
     "data": {
      "text/plain": [
       "array(['225', '82', 'inf', '263', '242', '251', '117', 'missing', '76',\n",
       "       '399', '118', '103', '180', '123', '218', '129', '167', '154',\n",
       "       '275', '121', nan, '125', '255', '75', '156', '240', '268', '108',\n",
       "       '69', '140', '214', '253', '189', '215', '96', '104', '100', '313',\n",
       "       '144', '93', '110', '70', '122', '51', '147', '113', '83', '56',\n",
       "       '137', '85', '64', '175', '3558', '170', '265', '353', '138', '19',\n",
       "       '116', '87', '74', '320', '300', '210', '120', '86', '97', '200',\n",
       "       '106', '14', '161', '128', '185', '146', '133', '115', '143',\n",
       "       '150', '195', '236', '276', '188', '179', '249', '141', '34', '73',\n",
       "       '107', '84', '81', '207', '50', '264', '312', '235', '221', '183',\n",
       "       '132', '160', '186', '78', '105', '145', '62', '220', '315', '181',\n",
       "       '61', '112', '420', '226', '266', '410', '449', '356', '477',\n",
       "       '250', '95', '190', '284', '247', '213', '209', '119', '111',\n",
       "       '130', '348', '166', '44', '176', '98', '159', '79', '71', '60',\n",
       "       '33', '89', '217', '127', '187', '109', '53', '201', '12', '63',\n",
       "       '223', '102', '254', '327', '16', '165', '65', '139', '134', '280',\n",
       "       '67', '272', '38', '153', '66', '152', '135', '374', '163', '124',\n",
       "       '233', '39', '151', '279', '136', '405', '199', '158', '126', '80',\n",
       "       '57', '36', '142', '77', '435', '92', '149', '114', '349', '178',\n",
       "       '594', '274', '40', '68', '164', '204', '94', '257', '323', '314',\n",
       "       '378', '55', '91', '309', '88', '58', '172', '211', '148', '49',\n",
       "       '52', '174', '191', '335', '808', '168', '203', '520', '212',\n",
       "       '222', '171', '228', '101', '267', '90', '196', '157', '99', '256',\n",
       "       '15', '155', '162', '72', '252', '330', '177', '341', '197', '340',\n",
       "       '182', '245', '270', '42', '229', '232', '131', '297', '237',\n",
       "       '194', '173', '46', '360', '205', '45', '365', '321', '37', '304',\n",
       "       '54', '305', '244', '43', '41', '22', '169', '59', '258', '230',\n",
       "       '287', '618', '792', '355', '202', '395', '351', '325', '248',\n",
       "       '224', '426', '286', '308', '198', '260', '291', '277', '281',\n",
       "       '216', '262', '364', '30', '192', '47', '184', '25', '558', '362',\n",
       "       '375', '347', '241', '475', '413', '400', '101.37', '219', '239',\n",
       "       '123.21', '140.7481', '86.5', '30.6', '225.5', '322', '409.54',\n",
       "       '26', '156.6', '227.6', '104.63', '193', '443', '167.13', '148.5',\n",
       "       '270.18', '53.3', '98.5', '157.9351', '328', '94.3', '21', '310',\n",
       "       '95.88', '261', '105.7', '72.9', '45.4', '221.3', '113.2',\n",
       "       '186.75', '540', '127.8', '231', '106.4', '311', '234', '332',\n",
       "       '206', '259', '246', '296', '269', '306', '380', '302', '48',\n",
       "       '278', '35', '208', '467', '283', '458', '196.8', '106.2', '32',\n",
       "       '424', '430', '243', '290', '511', '500', '531', '508', '333',\n",
       "       '72.3', '66.23', '101.51', '292', '112.9', '99.5', '77.5', '293',\n",
       "       '105.23', '352', '391', '121.8', '82.6', '136.49', '502', '680',\n",
       "       '157.9352', '126.8', '100.6', '44.4', '151.54', '20', '397', '495',\n",
       "       '331', '294', '334', '303', '318', '273', '584', '958', '288',\n",
       "       '342', '354', '350', '465', '337', '317', '298', '529', '697',\n",
       "       '289', '602', '6791', '534', '227', '429', '802', '373', '358',\n",
       "       '238', '316', '393', '180.9', '826.8367', '366', '307', '625',\n",
       "       '419', '94.5', '392', '28', '116.65', '11', '134.6', '282',\n",
       "       '183.84', '431', '126.7', '18', '295', '390', '447', '271', '416',\n",
       "       '370', '660', '463', '361', '496', '324', '173.45', '134.3',\n",
       "       '464.3', '76.77', '113.76', '107.4', '255.79', '186.36', '490',\n",
       "       '103.6', '63.7', '106.76', '39.5', '423', '319', '437', '285',\n",
       "       '453', '472', '418', '487', '31', '301', '116.4', '182.85',\n",
       "       '109.5', '129.7', '665', '398', '148.47', '553', '182.9', '184.75',\n",
       "       '193.74', '68.5', '336', '346', '719', '3112', '414', '372', '525',\n",
       "       '367', '1561', '454', '720', '329', '381', '677', '439', '857',\n",
       "       '23', '503', '432', '377', '512', '425', '406', '389', '521',\n",
       "       '6178', '654', '727', '417', '560', '168.01', '306.19', '515.78',\n",
       "       '196.1', '789', '131.27', '167.87', '183.97', '199.5', '29', '446',\n",
       "       '75.45', '165.5', '263.5', '585', '516', '345', '27', '444', '427',\n",
       "       '326', '518', '13', '411', '1022', '339', '461', '376', '513',\n",
       "       '836', '464', '386', '603', '613', '179.3', '142.6', '147.2',\n",
       "       '225.98', '113.81', '401', '737', '530', '82.3', '110.87', '450',\n",
       "       '673', '109.98', '122.25', '105.9', '101.7', '106.9', '93.82',\n",
       "       '132.6', '154.3', '178.74', '88.3', '80.7', '89.25', '181.6',\n",
       "       '104.4', '180.56', '123.5', '1143', '506', '575', '859', '653',\n",
       "       '999', '445', '438', '686', '649', '736', '371.6122', '199.73',\n",
       "       '118.54', '298.21', '169.5', '42.2', '135.5', '266.76', '272.4',\n",
       "       '177.8', '139.4', '700', '766', '538', '528', '650', '368', '544',\n",
       "       '557', '396', '638', '101.76', '363', '634', '195.0964', '470',\n",
       "       '130.52', '547', '111.04', '63.4', '92.5', '115.96', '121.84',\n",
       "       '122.86', '114.2', '266.53', '78.54', '85.35', '1041', '607',\n",
       "       '478', '407', '344', '338', '501', '448', '357', '408', '412',\n",
       "       '466', '739', '614', '421', '385', '68.11', '153.1', '85.2',\n",
       "       '93.84', '124.45', '210.68', '200.71', '81.79', '934', '129.92',\n",
       "       '43.7', '113.6', '66.32', '35.64', '61.6', '388.5', '672'],\n",
       "      dtype=object)"
      ]
     },
     "execution_count": 12,
     "metadata": {},
     "output_type": "execute_result"
    }
   ],
   "source": [
    "data['BuildingArea'].unique()"
   ]
  },
  {
   "cell_type": "code",
   "execution_count": 13,
   "id": "c0f7b7e5",
   "metadata": {},
   "outputs": [
    {
     "data": {
      "text/plain": [
       "BuildingArea\n",
       "<class 'float'>    16571\n",
       "<class 'str'>      10543\n",
       "Name: count, dtype: int64"
      ]
     },
     "execution_count": 13,
     "metadata": {},
     "output_type": "execute_result"
    }
   ],
   "source": [
    "#checking the count of different data types in the 'BuildingArea' column\n",
    "data['BuildingArea'].apply(type).value_counts()"
   ]
  },
  {
   "cell_type": "code",
   "execution_count": 15,
   "id": "310f13e2",
   "metadata": {},
   "outputs": [],
   "source": [
    "#replacing missing or infinite values in 'buildingArea' with nan\n",
    "data['BuildingArea'] = data['BuildingArea'].replace(['missing','inf'],np.nan)\n",
    "\n",
    "# Changing the data type to float\n",
    "data['BuildingArea'] = data['BuildingArea'].astype(float)"
   ]
  },
  {
   "cell_type": "code",
   "execution_count": 16,
   "id": "80e29af5",
   "metadata": {},
   "outputs": [
    {
     "name": "stdout",
     "output_type": "stream",
     "text": [
      "<class 'pandas.core.frame.DataFrame'>\n",
      "RangeIndex: 27114 entries, 0 to 27113\n",
      "Data columns (total 16 columns):\n",
      " #   Column         Non-Null Count  Dtype         \n",
      "---  ------         --------------  -----         \n",
      " 0   Suburb         27114 non-null  object        \n",
      " 1   Rooms          27114 non-null  int64         \n",
      " 2   Type           27114 non-null  object        \n",
      " 3   SellerG        27114 non-null  object        \n",
      " 4   Date           10418 non-null  datetime64[ns]\n",
      " 5   Distance       27113 non-null  float64       \n",
      " 6   Postcode       27113 non-null  float64       \n",
      " 7   Bedroom        20678 non-null  float64       \n",
      " 8   Bathroom       20672 non-null  float64       \n",
      " 9   Car            20297 non-null  float64       \n",
      " 10  Landsize       17873 non-null  float64       \n",
      " 11  BuildingArea   10529 non-null  float64       \n",
      " 12  YearBuilt      11985 non-null  float64       \n",
      " 13  Regionname     27114 non-null  object        \n",
      " 14  Propertycount  27114 non-null  int64         \n",
      " 15  Price          27114 non-null  int64         \n",
      "dtypes: datetime64[ns](1), float64(8), int64(3), object(4)\n",
      "memory usage: 3.3+ MB\n"
     ]
    }
   ],
   "source": [
    "data.info()"
   ]
  },
  {
   "cell_type": "code",
   "execution_count": 17,
   "id": "b92a6dd7",
   "metadata": {},
   "outputs": [],
   "source": [
    "data_new = pd.read_csv('/Users/preranaapradhan/Documents/AIML/Python4AIML/Week3 - EDA/Melbourne_Housing.csv', na_values=['missing','inf'])"
   ]
  },
  {
   "cell_type": "code",
   "execution_count": 18,
   "id": "000220b9",
   "metadata": {},
   "outputs": [
    {
     "data": {
      "text/plain": [
       "dtype('float64')"
      ]
     },
     "execution_count": 18,
     "metadata": {},
     "output_type": "execute_result"
    }
   ],
   "source": [
    "data_new['BuildingArea'].dtype"
   ]
  },
  {
   "cell_type": "markdown",
   "id": "9d72ab01",
   "metadata": {},
   "source": [
    "Missing Values occur when no data value is stored for the variable in the observation."
   ]
  },
  {
   "cell_type": "code",
   "execution_count": 19,
   "id": "2005769a",
   "metadata": {},
   "outputs": [
    {
     "data": {
      "text/plain": [
       "Suburb               0\n",
       "Rooms                0\n",
       "Type                 0\n",
       "SellerG              0\n",
       "Date             16696\n",
       "Distance             1\n",
       "Postcode             1\n",
       "Bedroom           6436\n",
       "Bathroom          6442\n",
       "Car               6817\n",
       "Landsize          9241\n",
       "BuildingArea     16585\n",
       "YearBuilt        15129\n",
       "Regionname           0\n",
       "Propertycount        0\n",
       "Price                0\n",
       "dtype: int64"
      ]
     },
     "execution_count": 19,
     "metadata": {},
     "output_type": "execute_result"
    }
   ],
   "source": [
    "#checking for missing values in the data\n",
    "data.isnull().sum()"
   ]
  },
  {
   "cell_type": "code",
   "execution_count": 23,
   "id": "b0a11dd3",
   "metadata": {},
   "outputs": [
    {
     "data": {
      "text/plain": [
       "np.int64(0)"
      ]
     },
     "execution_count": 23,
     "metadata": {},
     "output_type": "execute_result"
    }
   ],
   "source": [
    "#checking fr duplicate values\n",
    "data.duplicated().sum()"
   ]
  },
  {
   "cell_type": "code",
   "execution_count": 22,
   "id": "58341067",
   "metadata": {},
   "outputs": [],
   "source": [
    "# Dropping Duplicated entries from the dataset\n",
    "data.drop_duplicates(inplace = True)\n",
    "\n",
    "# Resetting the index of data frames since some rows will be removed\n",
    "data.reset_index(drop = True, inplace = True)"
   ]
  },
  {
   "cell_type": "code",
   "execution_count": 24,
   "id": "b5108d83",
   "metadata": {},
   "outputs": [
    {
     "data": {
      "text/html": [
       "<div>\n",
       "<style scoped>\n",
       "    .dataframe tbody tr th:only-of-type {\n",
       "        vertical-align: middle;\n",
       "    }\n",
       "\n",
       "    .dataframe tbody tr th {\n",
       "        vertical-align: top;\n",
       "    }\n",
       "\n",
       "    .dataframe thead th {\n",
       "        text-align: right;\n",
       "    }\n",
       "</style>\n",
       "<table border=\"1\" class=\"dataframe\">\n",
       "  <thead>\n",
       "    <tr style=\"text-align: right;\">\n",
       "      <th></th>\n",
       "      <th>count</th>\n",
       "      <th>mean</th>\n",
       "      <th>min</th>\n",
       "      <th>25%</th>\n",
       "      <th>50%</th>\n",
       "      <th>75%</th>\n",
       "      <th>max</th>\n",
       "      <th>std</th>\n",
       "    </tr>\n",
       "  </thead>\n",
       "  <tbody>\n",
       "    <tr>\n",
       "      <th>Rooms</th>\n",
       "      <td>27075.000000</td>\n",
       "      <td>2.992761</td>\n",
       "      <td>1.000000</td>\n",
       "      <td>2.000000</td>\n",
       "      <td>3.000000</td>\n",
       "      <td>4.000000</td>\n",
       "      <td>16.000000</td>\n",
       "      <td>0.954699</td>\n",
       "    </tr>\n",
       "    <tr>\n",
       "      <th>Date</th>\n",
       "      <td>10413</td>\n",
       "      <td>2017-05-17 06:02:02.385479936</td>\n",
       "      <td>2016-03-09 00:00:00</td>\n",
       "      <td>2016-10-12 00:00:00</td>\n",
       "      <td>2017-07-10 00:00:00</td>\n",
       "      <td>2017-11-11 00:00:00</td>\n",
       "      <td>2018-10-03 00:00:00</td>\n",
       "      <td>NaN</td>\n",
       "    </tr>\n",
       "    <tr>\n",
       "      <th>Distance</th>\n",
       "      <td>27074.000000</td>\n",
       "      <td>11.280731</td>\n",
       "      <td>0.000000</td>\n",
       "      <td>6.400000</td>\n",
       "      <td>10.500000</td>\n",
       "      <td>14.000000</td>\n",
       "      <td>48.100000</td>\n",
       "      <td>6.783073</td>\n",
       "    </tr>\n",
       "    <tr>\n",
       "      <th>Postcode</th>\n",
       "      <td>27074.000000</td>\n",
       "      <td>3113.811221</td>\n",
       "      <td>3000.000000</td>\n",
       "      <td>3046.000000</td>\n",
       "      <td>3088.000000</td>\n",
       "      <td>3153.000000</td>\n",
       "      <td>3978.000000</td>\n",
       "      <td>111.166280</td>\n",
       "    </tr>\n",
       "    <tr>\n",
       "      <th>Bedroom</th>\n",
       "      <td>20665.000000</td>\n",
       "      <td>3.046262</td>\n",
       "      <td>0.000000</td>\n",
       "      <td>2.000000</td>\n",
       "      <td>3.000000</td>\n",
       "      <td>4.000000</td>\n",
       "      <td>20.000000</td>\n",
       "      <td>0.955093</td>\n",
       "    </tr>\n",
       "    <tr>\n",
       "      <th>Bathroom</th>\n",
       "      <td>20659.000000</td>\n",
       "      <td>1.591558</td>\n",
       "      <td>0.000000</td>\n",
       "      <td>1.000000</td>\n",
       "      <td>1.000000</td>\n",
       "      <td>2.000000</td>\n",
       "      <td>9.000000</td>\n",
       "      <td>0.701214</td>\n",
       "    </tr>\n",
       "    <tr>\n",
       "      <th>Car</th>\n",
       "      <td>20284.000000</td>\n",
       "      <td>1.715884</td>\n",
       "      <td>0.000000</td>\n",
       "      <td>1.000000</td>\n",
       "      <td>2.000000</td>\n",
       "      <td>2.000000</td>\n",
       "      <td>18.000000</td>\n",
       "      <td>0.994479</td>\n",
       "    </tr>\n",
       "    <tr>\n",
       "      <th>Landsize</th>\n",
       "      <td>17864.000000</td>\n",
       "      <td>560.666480</td>\n",
       "      <td>50.000000</td>\n",
       "      <td>220.000000</td>\n",
       "      <td>513.500000</td>\n",
       "      <td>664.000000</td>\n",
       "      <td>76000.000000</td>\n",
       "      <td>1411.644775</td>\n",
       "    </tr>\n",
       "    <tr>\n",
       "      <th>BuildingArea</th>\n",
       "      <td>10519.000000</td>\n",
       "      <td>154.535920</td>\n",
       "      <td>11.000000</td>\n",
       "      <td>101.000000</td>\n",
       "      <td>133.000000</td>\n",
       "      <td>183.000000</td>\n",
       "      <td>6791.000000</td>\n",
       "      <td>130.633973</td>\n",
       "    </tr>\n",
       "    <tr>\n",
       "      <th>YearBuilt</th>\n",
       "      <td>11976.000000</td>\n",
       "      <td>1966.626336</td>\n",
       "      <td>1850.000000</td>\n",
       "      <td>1950.000000</td>\n",
       "      <td>1970.000000</td>\n",
       "      <td>2000.000000</td>\n",
       "      <td>2019.000000</td>\n",
       "      <td>36.032640</td>\n",
       "    </tr>\n",
       "    <tr>\n",
       "      <th>Propertycount</th>\n",
       "      <td>27075.000000</td>\n",
       "      <td>7563.096916</td>\n",
       "      <td>83.000000</td>\n",
       "      <td>4294.000000</td>\n",
       "      <td>6567.000000</td>\n",
       "      <td>10412.000000</td>\n",
       "      <td>21650.000000</td>\n",
       "      <td>4493.096711</td>\n",
       "    </tr>\n",
       "    <tr>\n",
       "      <th>Price</th>\n",
       "      <td>27075.000000</td>\n",
       "      <td>1050847.721440</td>\n",
       "      <td>85000.000000</td>\n",
       "      <td>636000.000000</td>\n",
       "      <td>871000.000000</td>\n",
       "      <td>1300000.000000</td>\n",
       "      <td>11200000.000000</td>\n",
       "      <td>641693.536670</td>\n",
       "    </tr>\n",
       "  </tbody>\n",
       "</table>\n",
       "</div>"
      ],
      "text/plain": [
       "                     count                           mean  \\\n",
       "Rooms         27075.000000                       2.992761   \n",
       "Date                 10413  2017-05-17 06:02:02.385479936   \n",
       "Distance      27074.000000                      11.280731   \n",
       "Postcode      27074.000000                    3113.811221   \n",
       "Bedroom       20665.000000                       3.046262   \n",
       "Bathroom      20659.000000                       1.591558   \n",
       "Car           20284.000000                       1.715884   \n",
       "Landsize      17864.000000                     560.666480   \n",
       "BuildingArea  10519.000000                     154.535920   \n",
       "YearBuilt     11976.000000                    1966.626336   \n",
       "Propertycount 27075.000000                    7563.096916   \n",
       "Price         27075.000000                 1050847.721440   \n",
       "\n",
       "                               min                  25%                  50%  \\\n",
       "Rooms                     1.000000             2.000000             3.000000   \n",
       "Date           2016-03-09 00:00:00  2016-10-12 00:00:00  2017-07-10 00:00:00   \n",
       "Distance                  0.000000             6.400000            10.500000   \n",
       "Postcode               3000.000000          3046.000000          3088.000000   \n",
       "Bedroom                   0.000000             2.000000             3.000000   \n",
       "Bathroom                  0.000000             1.000000             1.000000   \n",
       "Car                       0.000000             1.000000             2.000000   \n",
       "Landsize                 50.000000           220.000000           513.500000   \n",
       "BuildingArea             11.000000           101.000000           133.000000   \n",
       "YearBuilt              1850.000000          1950.000000          1970.000000   \n",
       "Propertycount            83.000000          4294.000000          6567.000000   \n",
       "Price                 85000.000000        636000.000000        871000.000000   \n",
       "\n",
       "                               75%                  max           std  \n",
       "Rooms                     4.000000            16.000000      0.954699  \n",
       "Date           2017-11-11 00:00:00  2018-10-03 00:00:00           NaN  \n",
       "Distance                 14.000000            48.100000      6.783073  \n",
       "Postcode               3153.000000          3978.000000    111.166280  \n",
       "Bedroom                   4.000000            20.000000      0.955093  \n",
       "Bathroom                  2.000000             9.000000      0.701214  \n",
       "Car                       2.000000            18.000000      0.994479  \n",
       "Landsize                664.000000         76000.000000   1411.644775  \n",
       "BuildingArea            183.000000          6791.000000    130.633973  \n",
       "YearBuilt              2000.000000          2019.000000     36.032640  \n",
       "Propertycount         10412.000000         21650.000000   4493.096711  \n",
       "Price               1300000.000000      11200000.000000 641693.536670  "
      ]
     },
     "execution_count": 24,
     "metadata": {},
     "output_type": "execute_result"
    }
   ],
   "source": [
    "#Now we are describing the data set\n",
    "data.describe().T"
   ]
  },
  {
   "cell_type": "code",
   "execution_count": 26,
   "id": "ab028ff0",
   "metadata": {},
   "outputs": [
    {
     "data": {
      "text/plain": [
       "209"
      ]
     },
     "execution_count": 26,
     "metadata": {},
     "output_type": "execute_result"
    }
   ],
   "source": [
    "# Checking total number of unique values in the data set\n",
    "data['Postcode'].nunique()"
   ]
  },
  {
   "cell_type": "code",
   "execution_count": 28,
   "id": "eb5acef4",
   "metadata": {},
   "outputs": [
    {
     "name": "stdout",
     "output_type": "stream",
     "text": [
      "Suburb\n",
      "Reservoir         722\n",
      "Bentleigh East    493\n",
      "Richmond          436\n",
      "Preston           409\n",
      "Brunswick         381\n",
      "                 ... \n",
      "Wandin North        1\n",
      "Ferny Creek         1\n",
      "Tecoma              1\n",
      "Montrose            1\n",
      "viewbank            1\n",
      "Name: count, Length: 345, dtype: int64\n",
      "__________\n",
      "Type\n",
      "h    18380\n",
      "u     5871\n",
      "t     2824\n",
      "Name: count, dtype: int64\n",
      "__________\n",
      "SellerG\n",
      "Nelson           2727\n",
      "Jellis           2514\n",
      "Barry            2382\n",
      "hockingstuart    2095\n",
      "Ray              1573\n",
      "                 ... \n",
      "Allan               1\n",
      "Jim                 1\n",
      "iProperty           1\n",
      "Batty               1\n",
      "Icon                1\n",
      "Name: count, Length: 347, dtype: int64\n",
      "__________\n",
      "Regionname\n",
      "Southern Metropolitan         8474\n",
      "Northern Metropolitan         7796\n",
      "Western Metropolitan          5788\n",
      "Eastern Metropolitan          3263\n",
      "South-Eastern Metropolitan    1332\n",
      "Northern Victoria              165\n",
      "Eastern Victoria               163\n",
      "Western Victoria                94\n",
      "Name: count, dtype: int64\n",
      "__________\n"
     ]
    }
   ],
   "source": [
    "# Checking the count and percentage of categorical values in each column\n",
    "cal_cols = ['Suburb', 'Type', 'SellerG', 'Regionname']\n",
    "\n",
    "# Printing the count of unique categorical levels in each column\n",
    "for column in cal_cols:\n",
    "    print(data[column].value_counts())\n",
    "    print(\"_\" * 10)"
   ]
  }
 ],
 "metadata": {
  "kernelspec": {
   "display_name": "base",
   "language": "python",
   "name": "python3"
  },
  "language_info": {
   "codemirror_mode": {
    "name": "ipython",
    "version": 3
   },
   "file_extension": ".py",
   "mimetype": "text/x-python",
   "name": "python",
   "nbconvert_exporter": "python",
   "pygments_lexer": "ipython3",
   "version": "3.13.5"
  }
 },
 "nbformat": 4,
 "nbformat_minor": 5
}
