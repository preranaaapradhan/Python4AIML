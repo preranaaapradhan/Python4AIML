{
 "cells": [
  {
   "cell_type": "code",
   "execution_count": 4,
   "id": "4bdb206d",
   "metadata": {},
   "outputs": [],
   "source": [
    "#Python needs to know that we want to use nUmPy (Numerical Python)\n",
    "import numpy as np"
   ]
  },
  {
   "cell_type": "markdown",
   "id": "f613b83d",
   "metadata": {},
   "source": [
    "# 1. Numpy Arrays"
   ]
  },
  {
   "cell_type": "markdown",
   "id": "1343a049",
   "metadata": {},
   "source": [
    "1. An array is a data structure that stores the values of same data type.\n",
    "2. While python lists can contain values corresponding to different data types, arrays in python can only contain values correspondong to the same data type.\n",
    "3. Python lists fail to deliver the performance required while computing large sets of numerical data. To address this issue, we use numpy Arrays.\n",
    "4. We can create NumPy arrays by converting list to an array.\n"
   ]
  },
  {
   "cell_type": "code",
   "execution_count": 12,
   "id": "9648fdfc",
   "metadata": {},
   "outputs": [
    {
     "name": "stdout",
     "output_type": "stream",
     "text": [
      "After conversion of list to array ['Meredes' 'BMW' 'Audi' 'Ferrrari' 'Tesla']\n",
      "After conversion of list to array [ 4  6  8 10 12]\n",
      "Data type of list arr_str is: <class 'list'>\n",
      "Data type of array new_arr_str is: <class 'numpy.ndarray'>\n",
      "Data type of list arr_num is: <class 'list'>\n",
      "Data type of array new_arr_num is: <class 'numpy.ndarray'>\n"
     ]
    }
   ],
   "source": [
    "#defining a list of different car co\n",
    "arr_str = ['Meredes', 'BMW', 'Audi', 'Ferrrari', 'Tesla']\n",
    "\n",
    "#defining a list f number of cylinders in the car\n",
    "arr_num = [4, 6, 8, 10, 12]\n",
    "\n",
    "#conversion of the python list to python array using numPy\n",
    "new_arr_str = np.array(arr_str)\n",
    "\n",
    "#conversion of the python list to python array using numPy\n",
    "new_arr_num = np.array(arr_num)\n",
    "\n",
    "print(\"After conversion of list to array\", new_arr_str)\n",
    "print(\"After conversion of list to array\", new_arr_num)\n",
    "\n",
    "#Let's print the data type of both the lists and arrays\n",
    "print(\"Data type of list arr_str is:\", type(arr_str))\n",
    "print(\"Data type of array new_arr_str is:\", type(new_arr_str))\n",
    "print(\"Data type of list arr_num is:\", type(arr_num))\n",
    "print(\"Data type of array new_arr_num is:\", type(new_arr_num))"
   ]
  },
  {
   "cell_type": "markdown",
   "id": "b8c6d365",
   "metadata": {},
   "source": [
    "# 2. Numpy Matrix\n",
    "\n",
    "1. A matrix is a 2 dimensional data structure where elements are arranged in rows and columns.\n",
    "2. A matrix can be created by using list of lists."
   ]
  },
  {
   "cell_type": "code",
   "execution_count": 15,
   "id": "50d7befa",
   "metadata": {},
   "outputs": [
    {
     "name": "stdout",
     "output_type": "stream",
     "text": [
      "[[1 2 1]\n",
      " [4 5 9]\n",
      " [6 7 8]]\n",
      "Data type of the matrix is  <class 'numpy.ndarray'>\n"
     ]
    }
   ],
   "source": [
    "# Let's say we have information on different cylinders in a car and we want to display them in matrix format.\n",
    "matrix = np.array([[1,2,1], [4,5,9], [6,7,8]])\n",
    "print(matrix)\n",
    "print(\"Data type of the matrix is \", type(matrix))"
   ]
  },
  {
   "cell_type": "markdown",
   "id": "b165e8ea",
   "metadata": {},
   "source": [
    "# 3. NumPy Functions\n",
    "There are different ways to create NUmPy Arrays using functions available in NumPy Library\n",
    "## Using np.arange() function\n",
    "1. The np.arange() function returns an array with evenly spaced elements as per the interval. The interval mentioned is half-opened i.e. start is included but stop is excluded.\n",
    "2. It has the following parameters\n",
    "\n",
    "    start: start of the interval range. Default = 0\n",
    "    stop : end of internal range\n",
    "    step : step size of the internal range. Default = 1"
   ]
  },
  {
   "cell_type": "code",
   "execution_count": 17,
   "id": "9d6466ac",
   "metadata": {},
   "outputs": [
    {
     "name": "stdout",
     "output_type": "stream",
     "text": [
      "[0 2 4 6 8]\n"
     ]
    }
   ],
   "source": [
    "arr2 = np.arange(start = 0, stop = 10, step = 2)\n",
    "print(arr2)"
   ]
  },
  {
   "cell_type": "markdown",
   "id": "38a56de0",
   "metadata": {},
   "source": [
    "## Using np.linspace() function\n",
    "The np.linspace() function returns the numbers which are evenly distributed with respect to the interval. Here, the start and stop both are included.\n",
    "It has the same following parameters:\n",
    "\n",
    "    start: Is the start of the interval range, default = 0.\n",
    "    stop : Is the end of the interval range.\n",
    "    num. : No. of samples to generate. Default = 50"
   ]
  },
  {
   "cell_type": "code",
   "execution_count": 18,
   "id": "c9eb7876",
   "metadata": {},
   "outputs": [
    {
     "name": "stdout",
     "output_type": "stream",
     "text": [
      "[0.         0.10204082 0.20408163 0.30612245 0.40816327 0.51020408\n",
      " 0.6122449  0.71428571 0.81632653 0.91836735 1.02040816 1.12244898\n",
      " 1.2244898  1.32653061 1.42857143 1.53061224 1.63265306 1.73469388\n",
      " 1.83673469 1.93877551 2.04081633 2.14285714 2.24489796 2.34693878\n",
      " 2.44897959 2.55102041 2.65306122 2.75510204 2.85714286 2.95918367\n",
      " 3.06122449 3.16326531 3.26530612 3.36734694 3.46938776 3.57142857\n",
      " 3.67346939 3.7755102  3.87755102 3.97959184 4.08163265 4.18367347\n",
      " 4.28571429 4.3877551  4.48979592 4.59183673 4.69387755 4.79591837\n",
      " 4.89795918 5.        ]\n"
     ]
    }
   ],
   "source": [
    "matrix2 = np.linspace(0,5)\n",
    "print(matrix2)"
   ]
  },
  {
   "cell_type": "markdown",
   "id": "4fd9200c",
   "metadata": {},
   "source": [
    "### How are these values getting generated?\n",
    "    The step size or the difference between each element is decided by the following formula:\n",
    "\n",
    "    (stop-start)/(total elements - 1)\n",
    "    so here it is, (5-0)/49 = 1.10204082"
   ]
  },
  {
   "cell_type": "markdown",
   "id": "bf7a95ad",
   "metadata": {},
   "source": [
    "# 4. Using np.zeros() function\n",
    "\n",
    "    - The np.zeros() is a function for creating a matrix and performing matrix operations in NumPy.\n",
    "    - It returns a matrix filled with zeros of the given shape.\n",
    "    - It has the following parameters:\n",
    "\n",
    "        shape: Number of rows and columns in the matrix.\n",
    "        dtype: data type of the elements in the matrix, by default it is set to float. "
   ]
  },
  {
   "cell_type": "code",
   "execution_count": 20,
   "id": "1c356a7b",
   "metadata": {},
   "outputs": [
    {
     "name": "stdout",
     "output_type": "stream",
     "text": [
      "[[0 0 0 0 0]\n",
      " [0 0 0 0 0]\n",
      " [0 0 0 0 0]]\n"
     ]
    }
   ],
   "source": [
    "matrix4 = np.zeros([3,5], dtype = int)\n",
    "print(matrix4)"
   ]
  },
  {
   "cell_type": "markdown",
   "id": "601e17c2",
   "metadata": {},
   "source": [
    "# 5. Using np.ones() function\n",
    "    - it is same as np.zeros(), it just prints 1 instead of 0."
   ]
  },
  {
   "cell_type": "code",
   "execution_count": 22,
   "id": "ed91f0ad",
   "metadata": {},
   "outputs": [
    {
     "name": "stdout",
     "output_type": "stream",
     "text": [
      "[[1. 1. 1. 1. 1.]\n",
      " [1. 1. 1. 1. 1.]\n",
      " [1. 1. 1. 1. 1.]]\n"
     ]
    }
   ],
   "source": [
    "matrix5 = np.ones([3,5])\n",
    "print(matrix5)"
   ]
  },
  {
   "cell_type": "markdown",
   "id": "3c1c3f19",
   "metadata": {},
   "source": [
    "# 6. Using np.eye() function\n",
    "    - The np.eye() function for creating a matrix and performing matrix operations in NumPy.\n",
    "    - It returns a matrix with ones on the diagonal and zeros elsewhere.\n",
    "\n",
    "    It has following parameters:\n",
    "\n",
    "    n : Number of rows and columns in the output matrix.\n",
    "    dtype: data type of the elements in the matrix, by default it is set to float."
   ]
  },
  {
   "cell_type": "code",
   "execution_count": 23,
   "id": "90bb8c0a",
   "metadata": {},
   "outputs": [
    {
     "name": "stdout",
     "output_type": "stream",
     "text": [
      "[[1. 0. 0. 0. 0.]\n",
      " [0. 1. 0. 0. 0.]\n",
      " [0. 0. 1. 0. 0.]\n",
      " [0. 0. 0. 1. 0.]\n",
      " [0. 0. 0. 0. 1.]]\n"
     ]
    }
   ],
   "source": [
    "matrix6 = np.eye(5)\n",
    "print(matrix6)"
   ]
  },
  {
   "cell_type": "markdown",
   "id": "f75bae8f",
   "metadata": {},
   "source": [
    "## Conversion of one dimensionsl array to a matrix.\n",
    "    This can be done using np.reshape() function\n",
    "\n",
    "    The shape of an array basically tells the number of elements and dimensions in the array. Reshaping a NumPy array simply means changing the shape of the given array.\n",
    "\n",
    "    By reshaping an array, we can add or remove dimensionsor change number of elements in each dimension.\n"
   ]
  },
  {
   "cell_type": "code",
   "execution_count": 25,
   "id": "976c6d49",
   "metadata": {},
   "outputs": [
    {
     "name": "stdout",
     "output_type": "stream",
     "text": [
      "[[ 4]\n",
      " [ 6]\n",
      " [ 8]\n",
      " [10]\n",
      " [12]]\n"
     ]
    }
   ],
   "source": [
    "print(np.reshape(arr_num, (5,1)))"
   ]
  },
  {
   "cell_type": "markdown",
   "id": "e5d641e2",
   "metadata": {},
   "source": [
    "# Arithmetic Operations on Arrays"
   ]
  },
  {
   "cell_type": "code",
   "execution_count": 26,
   "id": "11f3026b",
   "metadata": {},
   "outputs": [
    {
     "name": "stdout",
     "output_type": "stream",
     "text": [
      "[1, 2, 3, 4, 5, 6]\n"
     ]
    }
   ],
   "source": [
    "l1 = [1,2,3]\n",
    "l2 = [4,5,6]\n",
    "print(l1 + l2)"
   ]
  },
  {
   "cell_type": "code",
   "execution_count": 31,
   "id": "b2446b0b",
   "metadata": {},
   "outputs": [
    {
     "name": "stdout",
     "output_type": "stream",
     "text": [
      "Array 7:  [1 2 3 4 5]\n",
      "Array 8:  [3 4 5 6 7]\n",
      "Addition:  [ 4  6  8 10 12]\n",
      "Subtraction:  [-2 -2 -2 -2 -2]\n",
      "Multiplication:  [ 3  8 15 24 35]\n",
      "Division:  [0.33333333 0.5        0.6        0.66666667 0.71428571]\n",
      "Inverse of Array 7:  [1.         0.5        0.33333333 0.25       0.2       ]\n",
      "Inverse of Array 8:  [0.33333333 0.25       0.2        0.16666667 0.14285714]\n",
      "Powers:  [    1    16   243  4096 78125]\n"
     ]
    }
   ],
   "source": [
    "# Checking operations on arrays\n",
    "\n",
    "arr7 = np.arange(1,6)\n",
    "print(\"Array 7: \", arr7)\n",
    "\n",
    "arr8 = np.arange(3,8)\n",
    "print(\"Array 8: \", arr8)\n",
    "\n",
    "print(\"Addition: \", arr7 + arr8)\n",
    "print(\"Subtraction: \", arr7 - arr8)\n",
    "print(\"Multiplication: \", arr7 * arr8)\n",
    "print(\"Division: \", arr7/arr8)\n",
    "print(\"Inverse of Array 7: \", 1/arr7)\n",
    "print(\"Inverse of Array 8: \", 1/arr8)\n",
    "print(\"Powers: \", arr7 ** arr8)"
   ]
  },
  {
   "cell_type": "markdown",
   "id": "91f6c42e",
   "metadata": {},
   "source": [
    "### Expression arr(::-1) reverses the array."
   ]
  },
  {
   "cell_type": "markdown",
   "id": "b1a2ff24",
   "metadata": {},
   "source": [
    "# OPERATIONS ON NUMPY MATRIX"
   ]
  },
  {
   "cell_type": "code",
   "execution_count": 33,
   "id": "cd17db35",
   "metadata": {},
   "outputs": [
    {
     "name": "stdout",
     "output_type": "stream",
     "text": [
      "Matrix 7: \n",
      " [[1 2 3]\n",
      " [4 5 6]\n",
      " [7 8 9]]\n",
      "Matrix 8: \n",
      " [[1. 0. 0.]\n",
      " [0. 1. 0.]\n",
      " [0. 0. 1.]]\n"
     ]
    }
   ],
   "source": [
    "matrix7 = np.arange(1,10).reshape(3,3)\n",
    "print(\"Matrix 7: \\n\", matrix7)\n",
    "\n",
    "matrix8 = np.eye(3)\n",
    "print(\"Matrix 8: \\n\", matrix8)"
   ]
  },
  {
   "cell_type": "code",
   "execution_count": 34,
   "id": "b8035a58",
   "metadata": {},
   "outputs": [
    {
     "name": "stdout",
     "output_type": "stream",
     "text": [
      "Addition: \n",
      " [[ 2.  2.  3.]\n",
      " [ 4.  6.  6.]\n",
      " [ 7.  8. 10.]]\n",
      "Subtraction: \n",
      " [[0. 2. 3.]\n",
      " [4. 4. 6.]\n",
      " [7. 8. 8.]]\n",
      "Multiplication: \n",
      " [[1. 0. 0.]\n",
      " [0. 5. 0.]\n",
      " [0. 0. 9.]]\n",
      "Division: \n",
      " [[ 1. inf inf]\n",
      " [inf  5. inf]\n",
      " [inf inf  9.]]\n",
      "Inverse of Matrix 7: \n",
      " [[ 3.15251974e+15 -6.30503948e+15  3.15251974e+15]\n",
      " [-6.30503948e+15  1.26100790e+16 -6.30503948e+15]\n",
      " [ 3.15251974e+15 -6.30503948e+15  3.15251974e+15]]\n",
      "Inverse of Matrix 8: \n",
      " [[1. 0. 0.]\n",
      " [0. 1. 0.]\n",
      " [0. 0. 1.]]\n",
      "Powers: \n",
      " [[ 1  4  9]\n",
      " [16 25 36]\n",
      " [49 64 81]]\n"
     ]
    },
    {
     "name": "stderr",
     "output_type": "stream",
     "text": [
      "/var/folders/gq/12rz5dvx5fb1dsm_zy618x0h0000gn/T/ipykernel_2510/3528002546.py:4: RuntimeWarning: divide by zero encountered in divide\n",
      "  print(\"Division: \\n\", matrix7 / matrix8)\n"
     ]
    }
   ],
   "source": [
    "print(\"Addition: \\n\", matrix7 + matrix8)\n",
    "print(\"Subtraction: \\n\", matrix7 - matrix8)\n",
    "print(\"Multiplication: \\n\", matrix7 * matrix8)\n",
    "print(\"Division: \\n\", matrix7 / matrix8)\n",
    "print(\"Inverse of Matrix 7: \\n\", np.linalg.inv(matrix7))\n",
    "print(\"Inverse of Matrix 8: \\n\", np.linalg.inv(matrix8))\n",
    "print(\"Powers: \\n\", matrix7 ** 2)"
   ]
  },
  {
   "cell_type": "markdown",
   "id": "aabdcf57",
   "metadata": {},
   "source": [
    "1. Run Time Error is an error which occurs during the program execution after successful compilation.\n",
    "2. One of the most common run time errors are:\n",
    "    1. Division by Error: Due to division by error, we usually get inf (which means infinity) values because 1/0 is not a defined operation"
   ]
  },
  {
   "cell_type": "markdown",
   "id": "aded7a4c",
   "metadata": {},
   "source": [
    "# LINEAR ALGEBRA MATRIX MULTIPLICATION"
   ]
  },
  {
   "cell_type": "code",
   "execution_count": 35,
   "id": "b283cb06",
   "metadata": {},
   "outputs": [
    {
     "name": "stdout",
     "output_type": "stream",
     "text": [
      "First Matrix: \n",
      " [[1 2 3]\n",
      " [4 5 6]\n",
      " [7 8 9]]\n",
      "Second Matrix: \n",
      " [[11 12 13]\n",
      " [14 15 16]\n",
      " [17 18 19]]\n",
      " \n",
      "Multiplication: \n",
      " [[ 90  96 102]\n",
      " [216 231 246]\n",
      " [342 366 390]]\n"
     ]
    }
   ],
   "source": [
    "matrix9 = np.arange(1,10).reshape(3,3)\n",
    "print(\"First Matrix: \\n\", matrix9)\n",
    "\n",
    "matrix10 = np.arange(11,20).reshape(3,3)\n",
    "print(\"Second Matrix: \\n\", matrix10)\n",
    "print(' ')\n",
    "\n",
    "#Taking linear Algebra Matrix Multiplication (some may also call it as Dot Product)\n",
    "print(\"Multiplication: \\n\", matrix9 @ matrix10)"
   ]
  },
  {
   "cell_type": "markdown",
   "id": "7a6d4f92",
   "metadata": {},
   "source": [
    "# Transpose of a Matrix"
   ]
  },
  {
   "cell_type": "code",
   "execution_count": 40,
   "id": "9c7438d4",
   "metadata": {},
   "outputs": [
    {
     "name": "stdout",
     "output_type": "stream",
     "text": [
      "Original Matrix: \n",
      " [[1 2 3]\n",
      " [4 5 6]\n",
      " [7 8 9]]\n",
      "Transposed Matrix: \n",
      " [[1 4 7]\n",
      " [2 5 8]\n",
      " [3 6 9]]\n",
      "[[1 4 7]\n",
      " [2 5 8]\n",
      " [3 6 9]]\n"
     ]
    }
   ],
   "source": [
    "matrix11 = np.arange(1,10).reshape(3,3)\n",
    "matrix12 = np.transpose(matrix11)\n",
    "print(\"Original Matrix: \\n\", matrix11)\n",
    "print(\"Transposed Matrix: \\n\", matrix12)\n",
    "\n",
    "matrix13 = matrix11.T\n",
    "print(matrix13)"
   ]
  },
  {
   "cell_type": "markdown",
   "id": "e6c50ee9",
   "metadata": {},
   "source": [
    "## Functions to find Minimum and Maximum of Matrix\n"
   ]
  },
  {
   "cell_type": "code",
   "execution_count": 38,
   "id": "e0f101c4",
   "metadata": {},
   "outputs": [
    {
     "name": "stdout",
     "output_type": "stream",
     "text": [
      "Minimum Value: \n",
      " 1\n",
      "Maximum Value: \n",
      " 9\n"
     ]
    }
   ],
   "source": [
    "print(\"Minimum Value: \\n\", np.min(matrix11))\n",
    "print(\"Maximum Value: \\n\", np.max(matrix11))"
   ]
  }
 ],
 "metadata": {
  "kernelspec": {
   "display_name": "base",
   "language": "python",
   "name": "python3"
  },
  "language_info": {
   "codemirror_mode": {
    "name": "ipython",
    "version": 3
   },
   "file_extension": ".py",
   "mimetype": "text/x-python",
   "name": "python",
   "nbconvert_exporter": "python",
   "pygments_lexer": "ipython3",
   "version": "3.13.5"
  }
 },
 "nbformat": 4,
 "nbformat_minor": 5
}
